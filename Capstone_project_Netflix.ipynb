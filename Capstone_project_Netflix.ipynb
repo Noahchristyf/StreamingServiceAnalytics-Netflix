{
  "cells": [
    {
      "cell_type": "markdown",
      "source": [
        "Netflix Recommendation Engine Project"
      ],
      "metadata": {
        "id": "jRaGvoeU_nZK"
      }
    },
    {
      "cell_type": "code",
      "execution_count": null,
      "metadata": {
        "id": "7U8qR1Rx-_aq"
      },
      "outputs": [],
      "source": [
        "# Importing the Basic required libraries\n",
        "\n",
        "import pandas as pd\n",
        "import numpy as np\n",
        "import matplotlib.pyplot as plt\n",
        "import seaborn as sns"
      ]
    },
    {
      "cell_type": "code",
      "execution_count": null,
      "metadata": {
        "colab": {
          "base_uri": "https://localhost:8080/"
        },
        "id": "j4d-FMneK91E",
        "outputId": "fe34789e-5717-4455-e8de-0de11e819f6a"
      },
      "outputs": [
        {
          "output_type": "stream",
          "name": "stdout",
          "text": [
            "Drive already mounted at /content/drive; to attempt to forcibly remount, call drive.mount(\"/content/drive\", force_remount=True).\n"
          ]
        }
      ],
      "source": [
        "# connecting google drive to colab\n",
        "from google.colab import drive\n",
        "drive.mount('/content/drive')"
      ]
    },
    {
      "cell_type": "code",
      "execution_count": null,
      "metadata": {
        "id": "tXwTEPVv-_as"
      },
      "outputs": [],
      "source": [
        "# reading the dataset\n",
        "netflix_dataset = pd.read_csv('/content/drive/MyDrive/combined_data_1.txt.zip',header = None, names = ['Cust_Id', 'Rating'], usecols = [0,1])\n",
        "netflix_dataset.head()"
      ]
    },
    {
      "cell_type": "code",
      "execution_count": null,
      "metadata": {
        "id": "nejnJ484-_at"
      },
      "outputs": [],
      "source": [
        "netflix_dataset"
      ]
    },
    {
      "cell_type": "code",
      "execution_count": null,
      "metadata": {
        "id": "un9i0h6y-_au"
      },
      "outputs": [],
      "source": [
        "  netflix_dataset.dtypes"
      ]
    },
    {
      "cell_type": "code",
      "execution_count": null,
      "metadata": {
        "id": "ZypLGxet-_av"
      },
      "outputs": [],
      "source": [
        "netflix_dataset.dtypes"
      ]
    },
    {
      "cell_type": "code",
      "execution_count": null,
      "metadata": {
        "id": "_3L_ILFt-_aw"
      },
      "outputs": [],
      "source": [
        "netflix_dataset.shape"
      ]
    },
    {
      "cell_type": "code",
      "execution_count": null,
      "metadata": {
        "id": "kWRiMiU--_ay"
      },
      "outputs": [],
      "source": [
        "#get the customer count with NaN values\n",
        "movie_count=netflix_dataset.isnull().sum()\n",
        "movie_count"
      ]
    },
    {
      "cell_type": "code",
      "execution_count": null,
      "metadata": {
        "id": "Uof2UpvZ-_ay"
      },
      "outputs": [],
      "source": [
        "#claculate how many customers we are having in the dataset\n",
        "customer_count=netflix_dataset['Cust_Id'].nunique()"
      ]
    },
    {
      "cell_type": "code",
      "execution_count": null,
      "metadata": {
        "id": "mNBzXFly-_az"
      },
      "outputs": [],
      "source": [
        "customer_count"
      ]
    },
    {
      "cell_type": "code",
      "execution_count": null,
      "metadata": {
        "id": "WurjX2Y3-_az"
      },
      "outputs": [],
      "source": [
        "#without NaN values\n",
        "customer_count=netflix_dataset['Cust_Id'].nunique()-movie_count\n",
        "customer_count"
      ]
    },
    {
      "cell_type": "code",
      "execution_count": null,
      "metadata": {
        "id": "jThYH-kK-_az"
      },
      "outputs": [],
      "source": [
        "#get the total number of ratings given by the customers\n",
        "rating_count=netflix_dataset['Cust_Id'].count()-movie_count\n",
        "rating_count"
      ]
    },
    {
      "cell_type": "code",
      "source": [
        "#To find out how many people have rated the movies as 1, 2, 3,4,5 stars ratings to the movies\n",
        "stars=netflix_dataset.groupby('Rating')['Rating'].agg(['count'])"
      ],
      "metadata": {
        "id": "OMIo-78YYOmc"
      },
      "execution_count": null,
      "outputs": []
    },
    {
      "cell_type": "code",
      "execution_count": null,
      "metadata": {
        "id": "-o191CZK-_a0"
      },
      "outputs": [],
      "source": [
        "ax=stars.plot(kind='barh', legend=False, figsize=(15,10))\n",
        "plt.title(f'Total pool: {movie_count} Movies, {customer_count} Customers, {rating_count} ratings given', fontsize=20)\n",
        "plt.grid(True)"
      ]
    },
    {
      "cell_type": "code",
      "execution_count": null,
      "metadata": {
        "id": "hz1ummB_-_a0"
      },
      "outputs": [],
      "source": [
        "#add another column that will have movie id\n",
        "#first of all we will be calculating how many null values we are having in the ratings column\n",
        "df_nan=pd.DataFrame(pd.isnull(netflix_dataset.Rating))"
      ]
    },
    {
      "cell_type": "code",
      "execution_count": null,
      "metadata": {
        "id": "ZJOsW9z_-_a0"
      },
      "outputs": [],
      "source": [
        "df_nan"
      ]
    },
    {
      "cell_type": "code",
      "execution_count": null,
      "metadata": {
        "id": "hxpTM_Yx-_a1"
      },
      "outputs": [],
      "source": [
        "df_nan=df_nan[df_nan['Rating']==True]\n",
        "df_nan"
      ]
    },
    {
      "cell_type": "code",
      "execution_count": null,
      "metadata": {
        "id": "Oz8sHr1b-_a1"
      },
      "outputs": [],
      "source": [
        "df_nan.shape"
      ]
    },
    {
      "cell_type": "code",
      "execution_count": null,
      "metadata": {
        "id": "ZnWtAJZ7-_a1"
      },
      "outputs": [],
      "source": [
        "df_nan.head()"
      ]
    },
    {
      "cell_type": "code",
      "execution_count": null,
      "metadata": {
        "id": "8BY_bcJC-_a1"
      },
      "outputs": [],
      "source": [
        "#now we will reset the index as the column\n",
        "df_nan=df_nan.reset_index()"
      ]
    },
    {
      "cell_type": "code",
      "execution_count": null,
      "metadata": {
        "id": "_NC5KPs6-_a2"
      },
      "outputs": [],
      "source": [
        "df_nan"
      ]
    },
    {
      "cell_type": "code",
      "execution_count": null,
      "metadata": {
        "id": "CQ1fBQIW-_a2"
      },
      "outputs": [],
      "source": [
        "#now we will create a numpy array that will contain 1 from values 0 to 547, 2 from 549 to 693 and so on\n",
        "movie_np=[]\n",
        "movie_id=1\n",
        "for i, j in zip(df_nan['index'][1:], df_nan['index'][:-1]):\n",
        "    temp=np.full((1, i-j-1), movie_id)\n",
        "    movie_np=np.append(movie_np, temp)\n",
        "    movie_id+=1\n",
        "\n",
        "#account for last record and corresponding length\n",
        "#numpy approach\n",
        "last_record=np.full((1, len(netflix_dataset)-df_nan.iloc[-1,0-1]), movie_id)#movie id will be 4499\n",
        "movie_np=np.append(movie_np, last_record)"
      ]
    },
    {
      "cell_type": "code",
      "source": [
        "len(netflix_dataset)"
      ],
      "metadata": {
        "id": "zSxr5CV8kMol"
      },
      "execution_count": null,
      "outputs": []
    },
    {
      "cell_type": "code",
      "execution_count": null,
      "metadata": {
        "id": "nEVO7NF9rfUJ"
      },
      "outputs": [],
      "source": [
        "netflix_dataset"
      ]
    },
    {
      "cell_type": "code",
      "execution_count": null,
      "metadata": {
        "id": "LB5x40Uc-_a3"
      },
      "outputs": [],
      "source": [
        "netflix_dataset=netflix_dataset[pd.notnull(netflix_dataset['Rating'])]\n",
        "netflix_dataset['Movie_Id']=movie_np.astype(int)\n",
        "netflix_dataset['Cust_Id']=netflix_dataset['Cust_Id'].astype(int)\n",
        "print(\"Now the dataset will look like: \")\n",
        "netflix_dataset.head()"
      ]
    },
    {
      "cell_type": "code",
      "execution_count": null,
      "metadata": {
        "id": "aoHe9DDn-_a3"
      },
      "outputs": [],
      "source": [
        "#now we will remove all the users that have rated less movies and\n",
        "#also all those movies that has been rated less in numbers\n",
        "f=['count','mean']"
      ]
    },
    {
      "cell_type": "code",
      "execution_count": null,
      "metadata": {
        "id": "hhoe4czD-_a3"
      },
      "outputs": [],
      "source": [
        "dataset_movie_summary=netflix_dataset.groupby('Movie_Id').agg(f)"
      ]
    },
    {
      "cell_type": "code",
      "execution_count": null,
      "metadata": {
        "id": "vjWWZSZe-_a4"
      },
      "outputs": [],
      "source": [
        "dataset_movie_summary"
      ]
    },
    {
      "cell_type": "code",
      "execution_count": null,
      "metadata": {
        "id": "9IZrnDVM-_a4"
      },
      "outputs": [],
      "source": [
        "dataset_movie_summary=netflix_dataset.groupby('Movie_Id')['Rating'].agg(f)"
      ]
    },
    {
      "cell_type": "code",
      "execution_count": null,
      "metadata": {
        "id": "h2lKrdo_-_a4"
      },
      "outputs": [],
      "source": [
        "dataset_movie_summary"
      ]
    },
    {
      "cell_type": "code",
      "execution_count": null,
      "metadata": {
        "id": "5Y9yT-qWdp5v"
      },
      "outputs": [],
      "source": [
        "dataset_movie_summary[\"count\"].quantile(0.7)"
      ]
    },
    {
      "cell_type": "code",
      "execution_count": null,
      "metadata": {
        "id": "sEsJBCeW-_a4"
      },
      "outputs": [],
      "source": [
        "#create a benchmark\n",
        "movie_benchmark=round(dataset_movie_summary['count'].quantile(0.7),0)\n",
        "movie_benchmark"
      ]
    },
    {
      "cell_type": "code",
      "execution_count": null,
      "metadata": {
        "id": "GWY3fabl-_a4"
      },
      "outputs": [],
      "source": [
        "dataset_movie_summary['count']"
      ]
    },
    {
      "cell_type": "code",
      "execution_count": null,
      "metadata": {
        "id": "5-JVSZ2--_a5"
      },
      "outputs": [],
      "source": [
        "drop_movie_list=dataset_movie_summary[dataset_movie_summary['count']<movie_benchmark].index\n",
        "drop_movie_list"
      ]
    },
    {
      "cell_type": "code",
      "execution_count": null,
      "metadata": {
        "id": "sW-acIHg-_a5"
      },
      "outputs": [],
      "source": [
        "#remove all the users that are in-active\n",
        "dataset_cust_summary=netflix_dataset.groupby('Cust_Id')['Rating'].agg(f)\n",
        "dataset_cust_summary"
      ]
    },
    {
      "cell_type": "code",
      "execution_count": null,
      "metadata": {
        "id": "4rLVS6U7-_a5"
      },
      "outputs": [],
      "source": [
        "cust_benchmark=round(dataset_cust_summary['count'].quantile(0.7),0)\n",
        "cust_benchmark"
      ]
    },
    {
      "cell_type": "code",
      "execution_count": null,
      "metadata": {
        "id": "yRcTHqRt-_a6"
      },
      "outputs": [],
      "source": [
        "drop_cust_list=dataset_cust_summary[dataset_cust_summary['count']<cust_benchmark].index\n",
        "drop_cust_list"
      ]
    },
    {
      "cell_type": "code",
      "execution_count": null,
      "metadata": {
        "id": "SH5_FCry-_a6"
      },
      "outputs": [],
      "source": [
        "#remove all the customers and movies that are below the benchmark\n",
        "print('The original dataframe has: ', netflix_dataset.shape, 'shape')"
      ]
    },
    {
      "cell_type": "code",
      "execution_count": null,
      "metadata": {
        "id": "3fYXMoX0-_a6"
      },
      "outputs": [],
      "source": [
        "netflix_dataset=netflix_dataset[~netflix_dataset['Movie_Id'].isin(drop_movie_list)]\n",
        "netflix_dataset=netflix_dataset[~netflix_dataset['Cust_Id'].isin(drop_cust_list)]\n",
        "print('After the triming, the shape is: {}'.format(netflix_dataset.shape))"
      ]
    },
    {
      "cell_type": "code",
      "execution_count": null,
      "metadata": {
        "id": "i76_Akf5-_a6"
      },
      "outputs": [],
      "source": [
        "netflix_dataset.head()"
      ]
    },
    {
      "cell_type": "code",
      "execution_count": null,
      "metadata": {
        "id": "u36dZhgd-_a6"
      },
      "outputs": [],
      "source": [
        "#prepare the dataset for SVD and it takes the matrix as the input\n",
        "# so for input, we will convert the dataset into sparse matrix\n",
        "#4499 movies\n",
        "df_p = pd.pivot_table(netflix_dataset, values='Rating', index='Cust_Id', columns='Movie_Id')\n",
        "print(df_p.shape)"
      ]
    },
    {
      "cell_type": "code",
      "execution_count": null,
      "metadata": {
        "id": "ScVss_Xd-_a7"
      },
      "outputs": [],
      "source": [
        "df_p"
      ]
    },
    {
      "cell_type": "code",
      "execution_count": null,
      "metadata": {
        "id": "9h_AVCr--_a7"
      },
      "outputs": [],
      "source": [
        "# importing the next dataset\n",
        "df_title = pd.read_csv(\"/content/drive/MyDrive/movie_titles.csv\",  encoding='ISO-8859-1', header=None, usecols=[0,1,2], names=['Movie_Id','Year','Name' ])\n",
        "\n",
        "df_title.set_index('Movie_Id', inplace=True)"
      ]
    },
    {
      "cell_type": "code",
      "execution_count": null,
      "metadata": {
        "id": "7ofp3CHA-_a7"
      },
      "outputs": [],
      "source": [
        "df_title.head()"
      ]
    },
    {
      "cell_type": "code",
      "source": [
        "# Installing the surprice library from scikit\n",
        "!pip install scikit-surprise"
      ],
      "metadata": {
        "id": "cy-9wWzkBOlo"
      },
      "execution_count": null,
      "outputs": []
    },
    {
      "cell_type": "code",
      "execution_count": null,
      "metadata": {
        "id": "iL0RnWR8-_a7",
        "scrolled": true
      },
      "outputs": [],
      "source": [
        "#model building\n",
        "\n",
        "import math\n",
        "from surprise import Reader, Dataset, SVD\n",
        "from surprise.model_selection import cross_validate"
      ]
    },
    {
      "cell_type": "code",
      "execution_count": null,
      "metadata": {
        "id": "OpjUcFU8-_a8"
      },
      "outputs": [],
      "source": [
        "reader=Reader()"
      ]
    },
    {
      "cell_type": "code",
      "execution_count": null,
      "metadata": {
        "id": "NNeCQDO3-_a8"
      },
      "outputs": [],
      "source": [
        "#only work with top 100K rows\n",
        "data=Dataset.load_from_df(netflix_dataset[['Cust_Id','Movie_Id','Rating']][:100000], reader)"
      ]
    },
    {
      "cell_type": "code",
      "execution_count": null,
      "metadata": {
        "id": "6-KslE4J-_a8"
      },
      "outputs": [],
      "source": [
        "svd=SVD()\n",
        "cross_validate(svd, data, measures=['RMSE','MAE'], cv=3)\n",
        "#for 1st fold- 1,2,3,4,5"
      ]
    },
    {
      "cell_type": "code",
      "execution_count": null,
      "metadata": {
        "id": "NVpTPH3V-_a8"
      },
      "outputs": [],
      "source": [
        "netflix_dataset.head()"
      ]
    },
    {
      "cell_type": "code",
      "execution_count": null,
      "metadata": {
        "id": "oKHYSwvM-_a9"
      },
      "outputs": [],
      "source": [
        "# considering only user 712664\n",
        "dataset_712664=netflix_dataset[(netflix_dataset['Cust_Id'] ==712664)& (netflix_dataset['Rating']==5)]\n",
        "dataset_712664=dataset_712664.set_index('Movie_Id')\n",
        "dataset_712664=dataset_712664.join(df_title)['Name']\n",
        "dataset_712664"
      ]
    },
    {
      "cell_type": "code",
      "source": [
        "df_title"
      ],
      "metadata": {
        "id": "3_yFuPtxEOtM"
      },
      "execution_count": null,
      "outputs": []
    },
    {
      "cell_type": "code",
      "execution_count": null,
      "metadata": {
        "id": "FzZGhSfj-_a9"
      },
      "outputs": [],
      "source": [
        "#build the recommendation algorithm\n",
        "# make a copy of movie_title\n",
        "\n",
        "user_712664=df_title.copy()\n",
        "user_712664"
      ]
    },
    {
      "cell_type": "code",
      "execution_count": null,
      "metadata": {
        "id": "OheANb_1-_a9"
      },
      "outputs": [],
      "source": [
        "user_712664=user_712664.reset_index()\n",
        "user_712664"
      ]
    },
    {
      "cell_type": "code",
      "execution_count": null,
      "metadata": {
        "id": "NwD1NFaq-_a9"
      },
      "outputs": [],
      "source": [
        "user_712664=user_712664[~user_712664['Movie_Id'].isin(drop_movie_list)]\n",
        "user_712664"
      ]
    },
    {
      "cell_type": "code",
      "execution_count": null,
      "metadata": {
        "id": "gPiOl200-_a-"
      },
      "outputs": [],
      "source": [
        "user_712664['Estimate_Score']=user_712664['Movie_Id'].apply(lambda x: svd.predict(712664, x).est)\n",
        "user_712664=user_712664.drop('Movie_Id', axis=1)"
      ]
    },
    {
      "cell_type": "code",
      "execution_count": null,
      "metadata": {
        "id": "zSKBQdDm-_a-"
      },
      "outputs": [],
      "source": [
        "user_712664=user_712664.sort_values('Estimate_Score')\n",
        "print(user_712664)"
      ]
    },
    {
      "cell_type": "code",
      "source": [
        "user_712664.head(5)"
      ],
      "metadata": {
        "id": "UpqOVfmZFYYG"
      },
      "execution_count": null,
      "outputs": []
    },
    {
      "cell_type": "code",
      "execution_count": null,
      "metadata": {
        "id": "0jodA78c-_a-"
      },
      "outputs": [],
      "source": [
        "user_712664=user_712664.sort_values('Estimate_Score', ascending=False)\n",
        "print(user_712664.head(5))"
      ]
    },
    {
      "cell_type": "code",
      "execution_count": null,
      "metadata": {
        "id": "wx4fVz4RJkrO"
      },
      "outputs": [],
      "source": []
    },
    {
      "cell_type": "code",
      "execution_count": null,
      "metadata": {
        "id": "prI4xK1z-_a-"
      },
      "outputs": [],
      "source": []
    }
  ],
  "metadata": {
    "colab": {
      "provenance": []
    },
    "kernelspec": {
      "display_name": "Python 3 (ipykernel)",
      "language": "python",
      "name": "python3"
    },
    "language_info": {
      "codemirror_mode": {
        "name": "ipython",
        "version": 3
      },
      "file_extension": ".py",
      "mimetype": "text/x-python",
      "name": "python",
      "nbconvert_exporter": "python",
      "pygments_lexer": "ipython3",
      "version": "3.9.12"
    }
  },
  "nbformat": 4,
  "nbformat_minor": 0
}